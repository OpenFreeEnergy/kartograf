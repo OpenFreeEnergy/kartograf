{
 "cells": [
  {
   "cell_type": "markdown",
   "metadata": {
    "collapsed": false,
    "jupyter": {
     "outputs_hidden": false
    }
   },
   "source": [
    "# Example Notebook: Atom Mappings\n",
    "In this example we want to showcase how to generate the Kartograf mappings on \n",
    "the RHFE Data set, which was used for our publication.\n",
    "\n",
    "## Get Data:\n",
    "In this cell we will load the molecules as components from openfe-benchmarks. \n",
    "Note, that openfe-benchmarks contains aligned molecules with 3D coordinates. \n",
    "It is a general assumption for Kartografs atom mapper to get input molecules \n",
    "with well aligned conformations."
   ]
  },
  {
   "cell_type": "code",
   "execution_count": null,
   "metadata": {},
   "outputs": [],
   "source": [
    "# NBVAL_SKIP\n",
    "# Only run this cell if on google colab\n",
    "import os\n",
    "if \"COLAB_RELEASE_TAG\" in os.environ:\n",
    "    !pip install -U https://github.com/conda-incubator/condacolab/archive/cuda-version-12.tar.gz\n",
    "    import condacolab\n",
    "    condacolab.install_mambaforge()\n",
    "    !wget -q https://raw.githubusercontent.com/OpenFreeEnergy/kartograf/main/examples/environment.yaml\n",
    "    !mamba env update -q --name=base --file=environment.yaml\n",
    "    from google.colab import output\n",
    "    output.enable_custom_widget_manager()"
   ]
  },
  {
   "cell_type": "code",
   "execution_count": null,
   "metadata": {
    "ExecuteTime": {
     "end_time": "2023-11-06T00:01:55.441757396Z",
     "start_time": "2023-11-06T00:01:54.762104880Z"
    },
    "scrolled": true
   },
   "outputs": [],
   "source": [
    "import sys\n",
    "\n",
    "from rdkit import Chem\n",
    "try:\n",
    "    from openfe_benchmarks import benzenes\n",
    "except ModuleNotFoundError:\n",
    "    !{sys.executable} -m pip install --no-deps git+https://github.com/OpenFreeEnergy/openfe-benchmarks.git\n",
    "    from openfe_benchmarks import benzenes\n",
    "    \n",
    "\n",
    "components = benzenes.get_system().ligand_components\n",
    "\n",
    "# Exclude cycle breakers! as not feasible for Hybrid topology approaches.\n",
    "not_lig = [\"lig_4\", \"lig_7\", \"lig_2\", \"lig_3\"]\n",
    "components = [c for c in components if(c.name not in not_lig)]\n",
    "\n",
    "Chem.Draw.MolsToGridImage([c.to_rdkit() for c in components])\n"
   ]
  },
  {
   "cell_type": "markdown",
   "metadata": {
    "collapsed": false,
    "jupyter": {
     "outputs_hidden": false
    }
   },
   "source": [
    "## Generate Atom Mappings with Kartograf:\n",
    "Next we will generate all possible atom mappings, for the given Ligand cA. \n",
    "These mappings will be visualized in 3D in the latter cell."
   ]
  },
  {
   "cell_type": "code",
   "execution_count": null,
   "metadata": {
    "ExecuteTime": {
     "end_time": "2023-11-06T00:01:55.785993517Z",
     "start_time": "2023-11-06T00:01:55.473133240Z"
    },
    "collapsed": false,
    "jupyter": {
     "outputs_hidden": false
    },
    "scrolled": true
   },
   "outputs": [],
   "source": [
    "from kartograf import KartografAtomMapper\n",
    "\n",
    "atomMapper = KartografAtomMapper()\n",
    "\n",
    "#Generate Mappings\n",
    "mappings = []\n",
    "cA=components[-5] # central ligand from Ries et al. 2022\n",
    "for cB in components:\n",
    "    if(cA != cB):\n",
    "        mapping = next(atomMapper.suggest_mappings(cA, cB))\n",
    "        mappings.append(mapping)"
   ]
  },
  {
   "cell_type": "code",
   "execution_count": null,
   "metadata": {
    "ExecuteTime": {
     "end_time": "2023-11-06T00:01:55.817641995Z",
     "start_time": "2023-11-06T00:01:55.741239258Z"
    },
    "collapsed": false,
    "jupyter": {
     "outputs_hidden": false
    }
   },
   "outputs": [],
   "source": [
    "from kartograf.utils.mapping_visualization_widget import display_mappings_3d\n",
    "display_mappings_3d(mappings)"
   ]
  },
  {
   "cell_type": "markdown",
   "metadata": {
    "collapsed": false,
    "jupyter": {
     "outputs_hidden": false
    }
   },
   "source": [
    "## Scoring Metrics for Atom mappings:\n",
    "Finally we want to compare the different mappings with rule-based scoring \n",
    "metrics. This way for example we can try to estimate the complexity of the \n",
    "transformation from cA to cB."
   ]
  },
  {
   "cell_type": "code",
   "execution_count": null,
   "metadata": {
    "ExecuteTime": {
     "end_time": "2023-11-06T00:01:55.951440479Z",
     "start_time": "2023-11-06T00:01:55.813431246Z"
    },
    "collapsed": false,
    "jupyter": {
     "outputs_hidden": false
    }
   },
   "outputs": [],
   "source": [
    "from kartograf.atom_mapping_scorer import (\n",
    "    MappingVolumeRatioScorer, \n",
    "    MappingRMSDScorer,\n",
    "    MappingShapeOverlapScorer, \n",
    "    MappingShapeMismatchScorer\n",
    "    )\n",
    "\n",
    "scorer_dict ={\n",
    "    \"volume_score\": MappingVolumeRatioScorer(),\n",
    "    \"rmsd_score\": MappingRMSDScorer(),\n",
    "    \"overlap_score\": MappingShapeOverlapScorer(),\n",
    "    \"mismatch_score\": MappingShapeMismatchScorer()\n",
    "}\n",
    "\n",
    "def apply_scorers(mapping):\n",
    "    for score_name, scorer in scorer_dict.items():\n",
    "        setattr(mapping, score_name, scorer(mapping))\n",
    "\n",
    "#score mappings:\n",
    "for mapping in mappings:\n",
    "    apply_scorers(mapping)\n",
    "\n"
   ]
  },
  {
   "cell_type": "code",
   "execution_count": null,
   "metadata": {
    "ExecuteTime": {
     "end_time": "2023-11-06T00:01:56.139870575Z",
     "start_time": "2023-11-06T00:01:55.943210488Z"
    },
    "collapsed": false,
    "jupyter": {
     "outputs_hidden": false
    }
   },
   "outputs": [],
   "source": [
    "from matplotlib import pyplot as plt\n",
    "\n",
    "score_names = sorted(scorer_dict)\n",
    "plt.boxplot([[getattr(m, score_name) for m in mappings] for score_name in score_names])\n",
    "plt.xticks(range(1, len(score_names)+1), score_names, rotation=45)"
   ]
  },
  {
   "cell_type": "code",
   "execution_count": null,
   "metadata": {
    "ExecuteTime": {
     "end_time": "2023-11-06T00:01:59.231030094Z",
     "start_time": "2023-11-06T00:01:56.163961283Z"
    },
    "collapsed": false,
    "jupyter": {
     "outputs_hidden": false
    }
   },
   "outputs": [],
   "source": [
    "from scipy.stats import spearmanr\n",
    "from matplotlib import pyplot as plt\n",
    "\n",
    "score_names = sorted(scorer_dict)\n",
    "fig, axes = plt.subplots(nrows=len(score_names), ncols=len(score_names), figsize=[16,9])\n",
    "\n",
    "i=0\n",
    "for score_nameA in score_names:\n",
    "    j=0\n",
    "    axes[i,j].set_ylabel(score_nameA)\n",
    "\n",
    "    for score_nameB in score_names:\n",
    "        ax = axes[i,j]\n",
    "        if(i == len(score_names)-1):\n",
    "            ax.set_xlabel(score_nameB)\n",
    "        else:\n",
    "            ax.set_xticklabels([])\n",
    "        if(j>0):\n",
    "            ax.set_yticklabels([])\n",
    "\n",
    "\n",
    "        x = [getattr(m, score_nameA) for m in mappings]\n",
    "        y = [getattr(m, score_nameB) for m in mappings]\n",
    "        r, _ = spearmanr(x,y)\n",
    "        ax.scatter(x,y)\n",
    "        ax.text(0.1,0.85, \"$r_{spearman}:~$\"+str(round(r,2)))\n",
    "        ax.set_xlim([0,1])\n",
    "        ax.set_ylim([0,1])\n",
    "\n",
    "        j+=1\n",
    "    i+=1\n",
    "fig.tight_layout()\n",
    "fig.subplots_adjust(wspace=0, hspace=0)\n"
   ]
  }
 ],
 "metadata": {
  "kernelspec": {
   "display_name": "asapdiscovery",
   "language": "python",
   "name": "python3"
  },
  "language_info": {
   "codemirror_mode": {
    "name": "ipython",
    "version": 3
   },
   "file_extension": ".py",
   "mimetype": "text/x-python",
   "name": "python",
   "nbconvert_exporter": "python",
   "pygments_lexer": "ipython3",
   "version": "3.11.6"
  }
 },
 "nbformat": 4,
 "nbformat_minor": 4
}
